{
 "cells": [
  {
   "cell_type": "code",
   "execution_count": 1,
   "id": "e751b84a-e215-4618-9ac6-10b552291ac6",
   "metadata": {},
   "outputs": [],
   "source": [
    "import pandas as pd"
   ]
  },
  {
   "cell_type": "code",
   "execution_count": 2,
   "id": "6882d42b-4a2a-468e-9c84-ab1fd5dc6990",
   "metadata": {},
   "outputs": [],
   "source": [
    "brvm = pd.read_csv(\"brvm.actions.csv\")"
   ]
  },
  {
   "cell_type": "code",
   "execution_count": 3,
   "id": "f25f6fd2-a8db-4285-8898-93dafc7eaf97",
   "metadata": {},
   "outputs": [
    {
     "data": {
      "text/html": [
       "<div>\n",
       "<style scoped>\n",
       "    .dataframe tbody tr th:only-of-type {\n",
       "        vertical-align: middle;\n",
       "    }\n",
       "\n",
       "    .dataframe tbody tr th {\n",
       "        vertical-align: top;\n",
       "    }\n",
       "\n",
       "    .dataframe thead th {\n",
       "        text-align: right;\n",
       "    }\n",
       "</style>\n",
       "<table border=\"1\" class=\"dataframe\">\n",
       "  <thead>\n",
       "    <tr style=\"text-align: right;\">\n",
       "      <th></th>\n",
       "      <th>_id</th>\n",
       "      <th>Code</th>\n",
       "      <th>Désignation</th>\n",
       "      <th>Pays</th>\n",
       "      <th>Cours précédent</th>\n",
       "      <th>Cours jour</th>\n",
       "      <th>Volume échangé</th>\n",
       "      <th>Nombre transactions</th>\n",
       "      <th>Valeur échangée</th>\n",
       "      <th>Date</th>\n",
       "    </tr>\n",
       "  </thead>\n",
       "  <tbody>\n",
       "    <tr>\n",
       "      <th>0</th>\n",
       "      <td>65b223b695d22689cd9af3d8</td>\n",
       "      <td>ABJC</td>\n",
       "      <td>SERVAIR ABIDJAN CI</td>\n",
       "      <td>CI</td>\n",
       "      <td>1 380</td>\n",
       "      <td>1 380</td>\n",
       "      <td>21</td>\n",
       "      <td>5</td>\n",
       "      <td>28 305</td>\n",
       "      <td>24/01/2024</td>\n",
       "    </tr>\n",
       "    <tr>\n",
       "      <th>1</th>\n",
       "      <td>65b223b695d22689cd9af3d9</td>\n",
       "      <td>BICC</td>\n",
       "      <td>BICICI</td>\n",
       "      <td>CI</td>\n",
       "      <td>7 400</td>\n",
       "      <td>7 400</td>\n",
       "      <td>1</td>\n",
       "      <td>1</td>\n",
       "      <td>7 400</td>\n",
       "      <td>24/01/2024</td>\n",
       "    </tr>\n",
       "    <tr>\n",
       "      <th>2</th>\n",
       "      <td>65b223b695d22689cd9af3da</td>\n",
       "      <td>BNBC</td>\n",
       "      <td>BERNABE</td>\n",
       "      <td>CI</td>\n",
       "      <td>1 370</td>\n",
       "      <td>1 350</td>\n",
       "      <td>352</td>\n",
       "      <td>6</td>\n",
       "      <td>483 875</td>\n",
       "      <td>24/01/2024</td>\n",
       "    </tr>\n",
       "    <tr>\n",
       "      <th>3</th>\n",
       "      <td>65b223b695d22689cd9af3db</td>\n",
       "      <td>BOAB</td>\n",
       "      <td>BANK OF AFRICA BENIN                          ...</td>\n",
       "      <td>BJ</td>\n",
       "      <td>6 500</td>\n",
       "      <td>6 500</td>\n",
       "      <td>467</td>\n",
       "      <td>10</td>\n",
       "      <td>3 032 700</td>\n",
       "      <td>24/01/2024</td>\n",
       "    </tr>\n",
       "    <tr>\n",
       "      <th>4</th>\n",
       "      <td>65b223b695d22689cd9af3dc</td>\n",
       "      <td>BOABF</td>\n",
       "      <td>Bank Of Africa Burkina Faso                   ...</td>\n",
       "      <td>BF</td>\n",
       "      <td>6 900</td>\n",
       "      <td>6 900</td>\n",
       "      <td>140</td>\n",
       "      <td>6</td>\n",
       "      <td>960 350</td>\n",
       "      <td>24/01/2024</td>\n",
       "    </tr>\n",
       "  </tbody>\n",
       "</table>\n",
       "</div>"
      ],
      "text/plain": [
       "                        _id   Code  \\\n",
       "0  65b223b695d22689cd9af3d8   ABJC   \n",
       "1  65b223b695d22689cd9af3d9   BICC   \n",
       "2  65b223b695d22689cd9af3da   BNBC   \n",
       "3  65b223b695d22689cd9af3db   BOAB   \n",
       "4  65b223b695d22689cd9af3dc  BOABF   \n",
       "\n",
       "                                         Désignation Pays Cours précédent  \\\n",
       "0                                 SERVAIR ABIDJAN CI   CI           1 380   \n",
       "1                                             BICICI   CI           7 400   \n",
       "2                                            BERNABE   CI           1 370   \n",
       "3  BANK OF AFRICA BENIN                          ...   BJ           6 500   \n",
       "4  Bank Of Africa Burkina Faso                   ...   BF           6 900   \n",
       "\n",
       "  Cours jour Volume échangé  Nombre transactions Valeur échangée        Date  \n",
       "0      1 380             21                    5          28 305  24/01/2024  \n",
       "1      7 400              1                    1           7 400  24/01/2024  \n",
       "2      1 350            352                    6         483 875  24/01/2024  \n",
       "3      6 500            467                   10       3 032 700  24/01/2024  \n",
       "4      6 900            140                    6         960 350  24/01/2024  "
      ]
     },
     "execution_count": 3,
     "metadata": {},
     "output_type": "execute_result"
    }
   ],
   "source": [
    "brvm.head()"
   ]
  },
  {
   "cell_type": "code",
   "execution_count": null,
   "id": "a26378b0-df67-4a7b-b78b-c7666a4b3b28",
   "metadata": {},
   "outputs": [],
   "source": [
    "for col in brvm.columns:\n",
    "    brvm[col] = brvm[col].strip()"
   ]
  },
  {
   "cell_type": "code",
   "execution_count": null,
   "id": "36b22b4b-93e5-41b4-b341-6b37b39473ba",
   "metadata": {},
   "outputs": [],
   "source": []
  },
  {
   "cell_type": "code",
   "execution_count": null,
   "id": "989c4fef-5ae0-4906-8ef9-561e0960b114",
   "metadata": {},
   "outputs": [],
   "source": []
  },
  {
   "cell_type": "code",
   "execution_count": null,
   "id": "1119a02b-6e81-45e4-977b-d350cbea9f04",
   "metadata": {},
   "outputs": [],
   "source": []
  },
  {
   "cell_type": "code",
   "execution_count": null,
   "id": "d13b4679-75b4-4746-b7d0-d4ebf6b2dba2",
   "metadata": {},
   "outputs": [],
   "source": []
  },
  {
   "cell_type": "code",
   "execution_count": null,
   "id": "736c9018-fc4e-4a5a-a30b-7abd8f8b6680",
   "metadata": {},
   "outputs": [],
   "source": []
  },
  {
   "cell_type": "code",
   "execution_count": null,
   "id": "ca29ea58-4fb4-471e-bb2a-e1494773f7fc",
   "metadata": {},
   "outputs": [],
   "source": []
  },
  {
   "cell_type": "code",
   "execution_count": null,
   "id": "deb67711-ffc0-4505-9ee5-01f7a1883809",
   "metadata": {},
   "outputs": [],
   "source": []
  },
  {
   "cell_type": "code",
   "execution_count": null,
   "id": "f1049f05-f9f6-4d9c-841f-9864ebfaceb8",
   "metadata": {},
   "outputs": [],
   "source": []
  },
  {
   "cell_type": "code",
   "execution_count": null,
   "id": "9bebf067-2cbc-4417-8c4e-154477040f26",
   "metadata": {},
   "outputs": [],
   "source": []
  }
 ],
 "metadata": {
  "kernelspec": {
   "display_name": "Python 3 (ipykernel)",
   "language": "python",
   "name": "python3"
  },
  "language_info": {
   "codemirror_mode": {
    "name": "ipython",
    "version": 3
   },
   "file_extension": ".py",
   "mimetype": "text/x-python",
   "name": "python",
   "nbconvert_exporter": "python",
   "pygments_lexer": "ipython3",
   "version": "3.8.10"
  }
 },
 "nbformat": 4,
 "nbformat_minor": 5
}
